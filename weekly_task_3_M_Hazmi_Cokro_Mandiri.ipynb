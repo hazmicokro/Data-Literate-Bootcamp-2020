{
  "nbformat": 4,
  "nbformat_minor": 0,
  "metadata": {
    "kernelspec": {
      "name": "python3",
      "display_name": "Python 3"
    },
    "colab": {
      "name": "weekly_task_3_M Hazmi Cokro Mandiri.ipynb",
      "provenance": [],
      "collapsed_sections": [],
      "include_colab_link": true
    }
  },
  "cells": [
    {
      "cell_type": "markdown",
      "metadata": {
        "id": "view-in-github",
        "colab_type": "text"
      },
      "source": [
        "<a href=\"https://colab.research.google.com/github/hazmicokro/Data-Literate-Bootcamp-2020/blob/main/weekly_task_3_M_Hazmi_Cokro_Mandiri.ipynb\" target=\"_parent\"><img src=\"https://colab.research.google.com/assets/colab-badge.svg\" alt=\"Open In Colab\"/></a>"
      ]
    },
    {
      "cell_type": "markdown",
      "metadata": {
        "id": "ceojbcwNxBa7"
      },
      "source": [
        "M Hazmi Cokro M / @hazmicokro / Week 3 / OOP"
      ]
    },
    {
      "cell_type": "markdown",
      "metadata": {
        "id": "0cIyjOhu93rn"
      },
      "source": [
        "# Quiz\n"
      ]
    },
    {
      "cell_type": "markdown",
      "metadata": {
        "id": "95TSfwpU93sF"
      },
      "source": [
        "1. Buatlah kode program sederhana Kalkulator dengan menerapkan Class dan konsep OOP.\n",
        "2. Buatlah kode program dengan class Kendaraan. Dimana nanti kalian akan membuat class turunan dari Kendaraan seperti Mobil, Sepeda Motor, dsb dan class tersebut menggunakan Inheritance class Kendaraan. (Opsional: Tambahkan method lain pada class turunannya)\n",
        "\n",
        "**KREASIKAN SESUKA KALIAN, TIDAK ADA JAWABAN YANG SALAH**\n",
        "\n",
        "*tentu saja kalo error jawaban kalian pasti salah* 🏃"
      ]
    },
    {
      "cell_type": "markdown",
      "metadata": {
        "id": "bG3nHCi593sI"
      },
      "source": [
        "Kunci Jawaban untuk Panitia"
      ]
    },
    {
      "cell_type": "markdown",
      "metadata": {
        "id": "ttq0t2yO93sI"
      },
      "source": [
        "# [1] KALKULATOR SEDERHANA "
      ]
    },
    {
      "cell_type": "markdown",
      "metadata": {
        "id": "goWwCKgPyqY-"
      },
      "source": [
        "Class Kalkulator"
      ]
    },
    {
      "cell_type": "code",
      "metadata": {
        "ExecuteTime": {
          "end_time": "2020-12-24T13:57:24.983022Z",
          "start_time": "2020-12-24T13:57:24.977869Z"
        },
        "id": "NeRep1Y493sJ"
      },
      "source": [
        "#Inisialisasi Kelas Kalkulator\r\n",
        "import sys\r\n",
        "\r\n",
        "# + - / * ^ %\r\n",
        "class Kalkulator:\r\n",
        "    def __init__(self, angka1, angka2):\r\n",
        "        self.angka1 = angka1\r\n",
        "        self.angka2 = angka2\r\n",
        "\r\n",
        "    def tambah(self):\r\n",
        "        return self.angka1 + self.angka2\r\n",
        "\r\n",
        "    def kurang(self):\r\n",
        "        return self.angka1 - self.angka2\r\n",
        "\r\n",
        "    def bagi(self):\r\n",
        "        return self.angka1 / self.angka2\r\n",
        "\r\n",
        "    def kali(self):\r\n",
        "        return self.angka1 * self.angka2\r\n",
        "\r\n",
        "    def pangkat(self):\r\n",
        "        return self.angka1 ** self.angka2\r\n",
        "\r\n",
        "    def modulus(self):\r\n",
        "        return self.angka1 % self.angka2\r\n",
        "\r\n",
        "    def exit(self):\r\n",
        "        return sys.exit()"
      ],
      "execution_count": null,
      "outputs": []
    },
    {
      "cell_type": "markdown",
      "metadata": {
        "id": "4Ymner2Btvdn"
      },
      "source": [
        "Main Program Kalkulator"
      ]
    },
    {
      "cell_type": "code",
      "metadata": {
        "colab": {
          "base_uri": "https://localhost:8080/"
        },
        "id": "ntlrwCeQtuKM",
        "outputId": "a9d0a299-48c1-45ca-a24a-b38e15a3f0a4"
      },
      "source": [
        "print(\"--------------- Operasi Kalkulator ---------------\")\r\n",
        "print(\"1. Tambah (+) \")\r\n",
        "print(\"2. Kurang (-) \")\r\n",
        "print(\"3. Bagi   (/)\")\r\n",
        "print(\"4. Kali   (x)\")\r\n",
        "print(\"5. Pangkat (^)\")\r\n",
        "print(\"6. Modulus (%)\")\r\n",
        "print(\"7. Keluar \")\r\n",
        "print(\"--------------- ------------------------- ---------------\")\r\n",
        "\r\n",
        "choice = int(input(\"Pilihan (Ketikan Nomor): \"))\r\n",
        "print(\"--------------- ------------------------- ---------------\")\r\n",
        "\r\n",
        "inputan = Kalkulator(int(input('Masukan Angka pertama:  ')),\r\n",
        "                                 int(input('Masukan Angka kedua: ')))\r\n",
        "print(\"--------------- ------------------------- ---------------\")\r\n",
        "\r\n",
        "if choice == 1:\r\n",
        "    print(f\"Hasil dari {inputan.angka1} + {inputan.angka2} = \",inputan.tambah())\r\n",
        "elif choice == 2:\r\n",
        "    print(f\"Hasil dari {inputan.angka1} - {inputan.angka2} = \",inputan.kurang())\r\n",
        "elif choice == 3:\r\n",
        "    print(f\"Hasil dari {inputan.angka1} / {inputan.angka2} = \",inputan.bagi())\r\n",
        "elif choice == 4:\r\n",
        "    print(f\"Hasil dari {inputan.angka1} * {inputan.angka2} = \",inputan.kali())\r\n",
        "elif choice == 5:\r\n",
        "    print(f\"Hasil dari {inputan.angka1} ^ {inputan.angka2} = \",inputan.pangkat())\r\n",
        "elif choice == 6:\r\n",
        "    print(f\"Hasil dari {inputan.angka1} % {inputan.angka2} = \",inputan.modulus())\r\n",
        "elif choice == 7:\r\n",
        "    print(\"Keluar\")\r\n",
        "else:\r\n",
        "    print(\"Pilihan yang anda masukan tidak ada.....\")"
      ],
      "execution_count": null,
      "outputs": [
        {
          "output_type": "stream",
          "text": [
            "--------------- Operasi Kalkulator ---------------\n",
            "1. Tambah (+) \n",
            "2. Kurang (-) \n",
            "3. Bagi   (/)\n",
            "4. Kali   (x)\n",
            "5. Pangkat (^)\n",
            "6. Modulus (%)\n",
            "7. Keluar \n",
            "--------------- ------------------------- ---------------\n",
            "Pilihan (Ketikan Nomor): 6\n",
            "--------------- ------------------------- ---------------\n",
            "Masukan Angka pertama:  99\n",
            "Masukan Angka kedua: 3\n",
            "--------------- ------------------------- ---------------\n",
            "Hasil dari 99 % 3 =  0\n"
          ],
          "name": "stdout"
        }
      ]
    },
    {
      "cell_type": "markdown",
      "metadata": {
        "id": "23H2HM3I93sM"
      },
      "source": [
        "#[2] KENDARAAN INHERITANCE"
      ]
    },
    {
      "cell_type": "code",
      "metadata": {
        "ExecuteTime": {
          "end_time": "2020-12-24T14:17:12.416998Z",
          "start_time": "2020-12-24T14:17:12.409154Z"
        },
        "id": "iTbM57We93sN"
      },
      "source": [
        "# Tulis Kode Anda Disini"
      ],
      "execution_count": null,
      "outputs": []
    },
    {
      "cell_type": "code",
      "metadata": {
        "colab": {
          "base_uri": "https://localhost:8080/"
        },
        "id": "P17BXEZdgjN_",
        "outputId": "f19aab9d-d337-4247-a4ed-a4be26e5b492"
      },
      "source": [
        "class Kendaraan(object):\r\n",
        "    def __init__(self, roda, kapasitas, buat, tipe):\r\n",
        "        self.roda = roda\r\n",
        "        self.kapasitas = kapasitas\r\n",
        "        self.buat = buat\r\n",
        "        self.tipe = tipe\r\n",
        "        self.kilometer = 0\r\n",
        "\r\n",
        "    def drive(self, km):\r\n",
        "        self.km += km\r\n",
        "        return self\r\n",
        "\r\n",
        "    def reverse(self,km):\r\n",
        "        self.km -= km\r\n",
        "        return self\r\n",
        "\r\n",
        "class Motor(Kendaraan):\r\n",
        "    def KendaraanType(self):\r\n",
        "        return 'Motor'\r\n",
        "\r\n",
        "class Mobil(Kendaraan):\r\n",
        "    def settingroda(self):\r\n",
        "        self.roda = 4\r\n",
        "        return self\r\n",
        "\r\n",
        "class Pesawat(Kendaraan):\r\n",
        "    def fly(self,km):\r\n",
        "        self.kilometer += km\r\n",
        "        return self\r\n",
        "\r\n",
        "Mobilku = Kendaraan(4,2,'Ferarri','Balap')\r\n",
        "print(\"Mobilku :\",Mobilku.buat)\r\n",
        "print(\"Mobilku Roda :\",Mobilku.roda)\r\n",
        "\r\n",
        "print(\" \")\r\n",
        "Motorku = Motor(2,2,'Vespa','Skuter')\r\n",
        "print(\"Motorku Roda :\",Motorku.roda)\r\n",
        "\r\n",
        "print(\" \")\r\n",
        "Pesawatku = Pesawat(12,1400,'Sriwijaya','007')\r\n",
        "Pesawatku.fly(500)\r\n",
        "print(\"Pesawatku Terbang pada ketinggian :\", Pesawatku.kilometer)\r\n",
        "print(\"Pesawatku Merk :\", Pesawatku.tipe)"
      ],
      "execution_count": null,
      "outputs": [
        {
          "output_type": "stream",
          "text": [
            "Mobilku : Ferarri\n",
            "Mobilku Roda : 4\n",
            " \n",
            "Motorku Roda : 2\n",
            " \n",
            "Pesawatku Terbang pada ketinggian : 500\n",
            "Pesawatku Merk : 007\n"
          ],
          "name": "stdout"
        }
      ]
    }
  ]
}