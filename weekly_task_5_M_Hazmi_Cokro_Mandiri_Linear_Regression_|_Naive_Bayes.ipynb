{
  "nbformat": 4,
  "nbformat_minor": 0,
  "metadata": {
    "kernelspec": {
      "name": "python3",
      "display_name": "Python 3"
    },
    "colab": {
      "name": "weekly_task_5_M Hazmi Cokro Mandiri_Linear Regression | Naive Bayes.ipynb",
      "provenance": [],
      "collapsed_sections": [
        "39Q5oPJ9rbGU",
        "-JEKjBO-rHmk",
        "E5t5KS_0ldT5"
      ],
      "toc_visible": true,
      "include_colab_link": true
    }
  },
  "cells": [
    {
      "cell_type": "markdown",
      "metadata": {
        "id": "view-in-github",
        "colab_type": "text"
      },
      "source": [
        "<a href=\"https://colab.research.google.com/github/hazmicokro/Data-Literate-Bootcamp-2020/blob/main/weekly_task_5_M_Hazmi_Cokro_Mandiri_Linear_Regression_%7C_Naive_Bayes.ipynb\" target=\"_parent\"><img src=\"https://colab.research.google.com/assets/colab-badge.svg\" alt=\"Open In Colab\"/></a>"
      ]
    },
    {
      "cell_type": "markdown",
      "metadata": {
        "id": "y2ECQymOlR9v"
      },
      "source": [
        "**M Hazmi Cokro M / @hazmicokro / Week 5 / Linear Regression dan Naive Bayes**"
      ]
    },
    {
      "cell_type": "markdown",
      "metadata": {
        "id": "NT4t5u1NoBDc"
      },
      "source": [
        "# Quiz Explore\n",
        "\n",
        "1. Jelaskan sesuai pemahaman kalian pengertian dari pertanyaan dibawah ini, jelaskan menggunakan docstring\n",
        "    - Machine Learning\n",
        "    - Supervised Learning\n",
        "2. Lakukan eksplorasi pada dataset `data_multiple.csv` menggunakan metode Linear Regression! Lalu jelaskan menggunakan docstring\n",
        "3. Lakukan ekplorasi menggunakan dataset yang sudah disediakan oleh library scikit-learn dan terapkan metode Naive Bayes! Jelaskan menggunakan docstring\n",
        "\n",
        "Selamat mengerjakan"
      ]
    },
    {
      "cell_type": "markdown",
      "metadata": {
        "id": "39Q5oPJ9rbGU"
      },
      "source": [
        "#**[1] Machine Learning | Supervised Learning**"
      ]
    },
    {
      "cell_type": "code",
      "metadata": {
        "colab": {
          "base_uri": "https://localhost:8080/"
        },
        "id": "g8pAPEHJraOO",
        "outputId": "ac1c8259-aac7-45cc-ce84-d552bfece6d9"
      },
      "source": [
        "def MLSL(MLSL1): \r\n",
        "    '''\r\n",
        "    ------------------------------ Machine Learning ---------------------------------\r\n",
        "    Machine learning merupakan cabang dari artificial intelligence (AI).\r\n",
        "    ML menggunakan metode statistika untuk membuat komputer dapat mempelajari pola pada data tanpa perlu diprogram secara eksplisit.\r\n",
        "    Deep learning salah satu cabang machine learning dengan algoritma jaringan syaraf tiruan yang dapat belajar \r\n",
        "    dan beradaptasi terhadap sejumlah besar data.\r\n",
        "    Example : Deep Learning (CNN, ANN, dkk)\r\n",
        "    ------------------------------ ------------------------ ---------------------------------\r\n",
        "\r\n",
        "    ------------------------------ Supervised Learning ---------------------------------\r\n",
        "    Supervised learning salah satu kategori machine learning yang menyertakan solusi yang diinginkan.\r\n",
        "    Dataset yang digunakan telah memiliki label dan algoritma kemudian mempelajari pola dari pasangan data dan label tersebut. \r\n",
        "    Algoritma supervised learning mudah dipahami dan performa akurasinya pun mudah diukur. \r\n",
        "    Example : QnA system yang jawabannya udah disediakan oleh user/programmer.\r\n",
        "    ------------------------------ ------------------------ ---------------------------------\r\n",
        "\r\n",
        "    Reference : Dicoding - Belajar Machine Learning untuk Pemula\r\n",
        "    '''\r\n",
        "    return MLSL1\r\n",
        "\r\n",
        "print(MLSL.__doc__) "
      ],
      "execution_count": null,
      "outputs": [
        {
          "output_type": "stream",
          "text": [
            "\n",
            "    ------------------------------ Machine Learning ---------------------------------\n",
            "    Machine learning merupakan cabang dari artificial intelligence (AI).\n",
            "    ML menggunakan metode statistika untuk membuat komputer dapat mempelajari pola pada data tanpa perlu diprogram secara eksplisit.\n",
            "    Deep learning salah satu cabang machine learning dengan algoritma jaringan syaraf tiruan yang dapat belajar \n",
            "    dan beradaptasi terhadap sejumlah besar data.\n",
            "    Example : Deep Learning (CNN, ANN, dkk)\n",
            "    ------------------------------ ------------------------ ---------------------------------\n",
            "\n",
            "    ------------------------------ Supervised Learning ---------------------------------\n",
            "    Supervised learning salah satu kategori machine learning yang menyertakan solusi yang diinginkan.\n",
            "    Dataset yang digunakan telah memiliki label dan algoritma kemudian mempelajari pola dari pasangan data dan label tersebut. \n",
            "    Algoritma supervised learning mudah dipahami dan performa akurasinya pun mudah diukur. \n",
            "    Example : QnA system yang jawabannya udah disediakan oleh user/programmer.\n",
            "    ------------------------------ ------------------------ ---------------------------------\n",
            "\n",
            "    Reference : Dicoding - Belajar Machine Learning untuk Pemula\n",
            "    \n"
          ],
          "name": "stdout"
        }
      ]
    },
    {
      "cell_type": "markdown",
      "metadata": {
        "id": "-JEKjBO-rHmk"
      },
      "source": [
        "#**[2] Linear Regression | data_multiple.csv**"
      ]
    },
    {
      "cell_type": "code",
      "metadata": {
        "id": "r81HC-KorP4n"
      },
      "source": [
        "import numpy as np\r\n",
        "import pandas as pd\r\n",
        "import matplotlib.pyplot as plt\r\n",
        "%matplotlib inline\r\n",
        "from sklearn.linear_model import LinearRegression\r\n",
        "from sklearn import metrics\r\n",
        "import seaborn as sns\r\n",
        "from sklearn.model_selection import train_test_split"
      ],
      "execution_count": null,
      "outputs": []
    },
    {
      "cell_type": "code",
      "metadata": {
        "colab": {
          "resources": {
            "http://localhost:8080/nbextensions/google.colab/files.js": {
              "data": "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",
              "ok": true,
              "headers": [
                [
                  "content-type",
                  "application/javascript"
                ]
              ],
              "status": 200,
              "status_text": ""
            }
          },
          "base_uri": "https://localhost:8080/",
          "height": 73
        },
        "id": "G5vGU_0bJfZS",
        "outputId": "f93b7665-a265-415a-efd8-020948d2be8c"
      },
      "source": [
        "from google.colab import files\r\n",
        "uploaded = files.upload()"
      ],
      "execution_count": null,
      "outputs": [
        {
          "output_type": "display_data",
          "data": {
            "text/html": [
              "\n",
              "     <input type=\"file\" id=\"files-cb2885ba-74ff-447e-b8d8-98db083476c4\" name=\"files[]\" multiple disabled\n",
              "        style=\"border:none\" />\n",
              "     <output id=\"result-cb2885ba-74ff-447e-b8d8-98db083476c4\">\n",
              "      Upload widget is only available when the cell has been executed in the\n",
              "      current browser session. Please rerun this cell to enable.\n",
              "      </output>\n",
              "      <script src=\"/nbextensions/google.colab/files.js\"></script> "
            ],
            "text/plain": [
              "<IPython.core.display.HTML object>"
            ]
          },
          "metadata": {
            "tags": []
          }
        },
        {
          "output_type": "stream",
          "text": [
            "Saving data_multiple.csv to data_multiple.csv\n"
          ],
          "name": "stdout"
        }
      ]
    },
    {
      "cell_type": "code",
      "metadata": {
        "colab": {
          "base_uri": "https://localhost:8080/",
          "height": 266
        },
        "id": "ZAcpPLKx3F3q",
        "outputId": "e07f96cc-45c3-45f6-afae-568538040b2d"
      },
      "source": [
        "data = pd.read_csv('data_multiple.csv')\r\n",
        "data.head(7)"
      ],
      "execution_count": null,
      "outputs": [
        {
          "output_type": "execute_result",
          "data": {
            "text/html": [
              "<div>\n",
              "<style scoped>\n",
              "    .dataframe tbody tr th:only-of-type {\n",
              "        vertical-align: middle;\n",
              "    }\n",
              "\n",
              "    .dataframe tbody tr th {\n",
              "        vertical-align: top;\n",
              "    }\n",
              "\n",
              "    .dataframe thead th {\n",
              "        text-align: right;\n",
              "    }\n",
              "</style>\n",
              "<table border=\"1\" class=\"dataframe\">\n",
              "  <thead>\n",
              "    <tr style=\"text-align: right;\">\n",
              "      <th></th>\n",
              "      <th>Nama</th>\n",
              "      <th>Tugas</th>\n",
              "      <th>Quiz</th>\n",
              "      <th>UTS</th>\n",
              "      <th>UAS</th>\n",
              "      <th>Absensi</th>\n",
              "      <th>NA</th>\n",
              "    </tr>\n",
              "  </thead>\n",
              "  <tbody>\n",
              "    <tr>\n",
              "      <th>0</th>\n",
              "      <td>Adi</td>\n",
              "      <td>75</td>\n",
              "      <td>35</td>\n",
              "      <td>63</td>\n",
              "      <td>85</td>\n",
              "      <td>98</td>\n",
              "      <td>72.90</td>\n",
              "    </tr>\n",
              "    <tr>\n",
              "      <th>1</th>\n",
              "      <td>Suci</td>\n",
              "      <td>48</td>\n",
              "      <td>53</td>\n",
              "      <td>74</td>\n",
              "      <td>49</td>\n",
              "      <td>78</td>\n",
              "      <td>56.15</td>\n",
              "    </tr>\n",
              "    <tr>\n",
              "      <th>2</th>\n",
              "      <td>Tino</td>\n",
              "      <td>55</td>\n",
              "      <td>73</td>\n",
              "      <td>81</td>\n",
              "      <td>76</td>\n",
              "      <td>66</td>\n",
              "      <td>71.20</td>\n",
              "    </tr>\n",
              "    <tr>\n",
              "      <th>3</th>\n",
              "      <td>Andi</td>\n",
              "      <td>49</td>\n",
              "      <td>27</td>\n",
              "      <td>66</td>\n",
              "      <td>53</td>\n",
              "      <td>89</td>\n",
              "      <td>51.90</td>\n",
              "    </tr>\n",
              "    <tr>\n",
              "      <th>4</th>\n",
              "      <td>Rina</td>\n",
              "      <td>40</td>\n",
              "      <td>44</td>\n",
              "      <td>67</td>\n",
              "      <td>54</td>\n",
              "      <td>60</td>\n",
              "      <td>50.80</td>\n",
              "    </tr>\n",
              "    <tr>\n",
              "      <th>5</th>\n",
              "      <td>Deny</td>\n",
              "      <td>23</td>\n",
              "      <td>38</td>\n",
              "      <td>70</td>\n",
              "      <td>48</td>\n",
              "      <td>99</td>\n",
              "      <td>51.25</td>\n",
              "    </tr>\n",
              "    <tr>\n",
              "      <th>6</th>\n",
              "      <td>Lina</td>\n",
              "      <td>59</td>\n",
              "      <td>39</td>\n",
              "      <td>50</td>\n",
              "      <td>52</td>\n",
              "      <td>66</td>\n",
              "      <td>53.50</td>\n",
              "    </tr>\n",
              "  </tbody>\n",
              "</table>\n",
              "</div>"
            ],
            "text/plain": [
              "   Nama  Tugas  Quiz  UTS  UAS  Absensi     NA\n",
              "0   Adi     75    35   63   85       98  72.90\n",
              "1  Suci     48    53   74   49       78  56.15\n",
              "2  Tino     55    73   81   76       66  71.20\n",
              "3  Andi     49    27   66   53       89  51.90\n",
              "4  Rina     40    44   67   54       60  50.80\n",
              "5  Deny     23    38   70   48       99  51.25\n",
              "6  Lina     59    39   50   52       66  53.50"
            ]
          },
          "metadata": {
            "tags": []
          },
          "execution_count": 3
        }
      ]
    },
    {
      "cell_type": "code",
      "metadata": {
        "colab": {
          "base_uri": "https://localhost:8080/"
        },
        "id": "8l_pjuigSacJ",
        "outputId": "7f9b1835-1d05-4a50-d262-fa2a47c8d1a8"
      },
      "source": [
        "print('Rata Tugas : ',data['Tugas'].mean(),\r\n",
        "        '\\nRata Quiz : ',data['Quiz'].mean(),\r\n",
        "        '\\nRata UTS :',data['UTS'].mean(),\r\n",
        "        '\\nRata UAS : ',data['UAS'].mean(),\r\n",
        "        '\\nRata Absensi : ',data['Absensi'].mean())"
      ],
      "execution_count": null,
      "outputs": [
        {
          "output_type": "stream",
          "text": [
            "Rata Tugas :  54.15 \n",
            "Rata Quiz :  47.05 \n",
            "Rata UTS : 68.55 \n",
            "Rata UAS :  63.5 \n",
            "Rata Absensi :  79.45\n"
          ],
          "name": "stdout"
        }
      ]
    },
    {
      "cell_type": "code",
      "metadata": {
        "colab": {
          "base_uri": "https://localhost:8080/"
        },
        "id": "b8amBXCJ6iW-",
        "outputId": "d225b117-5503-466a-951a-75e5503becfc"
      },
      "source": [
        "data.isnull().sum()"
      ],
      "execution_count": null,
      "outputs": [
        {
          "output_type": "execute_result",
          "data": {
            "text/plain": [
              "Nama       0\n",
              "Tugas      0\n",
              "Quiz       0\n",
              "UTS        0\n",
              "UAS        0\n",
              "Absensi    0\n",
              "NA         0\n",
              "dtype: int64"
            ]
          },
          "metadata": {
            "tags": []
          },
          "execution_count": 5
        }
      ]
    },
    {
      "cell_type": "code",
      "metadata": {
        "colab": {
          "base_uri": "https://localhost:8080/",
          "height": 287
        },
        "id": "R8QhPdhh6iS-",
        "outputId": "2a74545f-8f0a-4902-83d0-cbb426bb4c2f"
      },
      "source": [
        "'''\r\n",
        "Pada Matriks Korelasi menunjukkan nilai positif tinggi (+0.85) didapatkan oleh\r\n",
        "Value Tugas dengan NA, dimana menunjukkan korelasi berhubungan hampir sempurna\r\n",
        "Maka dari itu pada implementasi LR, \r\n",
        "Menggunakan Tugas sebagai value X dan NA sebagai value Y\r\n",
        "'''\r\n",
        "correlation_matrix = data.corr().round(2)\r\n",
        "sns.heatmap(data=correlation_matrix, annot=True, cmap=\"BuPu\")"
      ],
      "execution_count": null,
      "outputs": [
        {
          "output_type": "execute_result",
          "data": {
            "text/plain": [
              "<matplotlib.axes._subplots.AxesSubplot at 0x7f9a9de8a518>"
            ]
          },
          "metadata": {
            "tags": []
          },
          "execution_count": 151
        },
        {
          "output_type": "display_data",
          "data": {
            "image/png": "[encoded data removed]",
            "text/plain": [
              "<Figure size 432x288 with 2 Axes>"
            ]
          },
          "metadata": {
            "tags": [],
            "needs_background": "light"
          }
        }
      ]
    },
    {
      "cell_type": "code",
      "metadata": {
        "colab": {
          "base_uri": "https://localhost:8080/",
          "height": 295
        },
        "id": "sKtAlwxeDYf2",
        "outputId": "329da7b7-e5d2-4456-f7a7-12a035638f30"
      },
      "source": [
        "data.plot(x='NA', y='Tugas', style='o')\r\n",
        "plt.title('Nilai NA |vs| Nilai Tugas')\r\n",
        "plt.xlabel('Nilai NA')\r\n",
        "plt.ylabel('Nilai Tugas')\r\n",
        "plt.show()"
      ],
      "execution_count": null,
      "outputs": [
        {
          "output_type": "display_data",
          "data": {
            "image/png": "[encoded data removed]",
            "text/plain": [
              "<Figure size 432x288 with 1 Axes>"
            ]
          },
          "metadata": {
            "tags": [],
            "needs_background": "light"
          }
        }
      ]
    },
    {
      "cell_type": "code",
      "metadata": {
        "id": "sWGqpQtRD2yU",
        "colab": {
          "base_uri": "https://localhost:8080/",
          "height": 142
        },
        "outputId": "30107cbb-1d81-41cc-c1f4-34ed18d9a6fd"
      },
      "source": [
        "'''\r\n",
        "Split Data Train 70%\r\n",
        "'''\r\n",
        "\r\n",
        "data_train = data[:14]\r\n",
        "\r\n",
        "X_train = data_train['Tugas'].values.reshape(-1, 1)\r\n",
        "Y_train = data_train['NA'].values.reshape(-1, 1)\r\n",
        "data_train.tail(3)"
      ],
      "execution_count": null,
      "outputs": [
        {
          "output_type": "execute_result",
          "data": {
            "text/html": [
              "<div>\n",
              "<style scoped>\n",
              "    .dataframe tbody tr th:only-of-type {\n",
              "        vertical-align: middle;\n",
              "    }\n",
              "\n",
              "    .dataframe tbody tr th {\n",
              "        vertical-align: top;\n",
              "    }\n",
              "\n",
              "    .dataframe thead th {\n",
              "        text-align: right;\n",
              "    }\n",
              "</style>\n",
              "<table border=\"1\" class=\"dataframe\">\n",
              "  <thead>\n",
              "    <tr style=\"text-align: right;\">\n",
              "      <th></th>\n",
              "      <th>Nama</th>\n",
              "      <th>Tugas</th>\n",
              "      <th>Quiz</th>\n",
              "      <th>UTS</th>\n",
              "      <th>UAS</th>\n",
              "      <th>Absensi</th>\n",
              "      <th>NA</th>\n",
              "    </tr>\n",
              "  </thead>\n",
              "  <tbody>\n",
              "    <tr>\n",
              "      <th>11</th>\n",
              "      <td>Rony</td>\n",
              "      <td>35</td>\n",
              "      <td>64</td>\n",
              "      <td>54</td>\n",
              "      <td>59</td>\n",
              "      <td>53</td>\n",
              "      <td>46.75</td>\n",
              "    </tr>\n",
              "    <tr>\n",
              "      <th>12</th>\n",
              "      <td>Dandi</td>\n",
              "      <td>84</td>\n",
              "      <td>34</td>\n",
              "      <td>71</td>\n",
              "      <td>74</td>\n",
              "      <td>88</td>\n",
              "      <td>74.30</td>\n",
              "    </tr>\n",
              "    <tr>\n",
              "      <th>13</th>\n",
              "      <td>Azka</td>\n",
              "      <td>50</td>\n",
              "      <td>27</td>\n",
              "      <td>47</td>\n",
              "      <td>66</td>\n",
              "      <td>75</td>\n",
              "      <td>49.65</td>\n",
              "    </tr>\n",
              "  </tbody>\n",
              "</table>\n",
              "</div>"
            ],
            "text/plain": [
              "     Nama  Tugas  Quiz  UTS  UAS  Absensi     NA\n",
              "11   Rony     35    64   54   59       53  46.75\n",
              "12  Dandi     84    34   71   74       88  74.30\n",
              "13   Azka     50    27   47   66       75  49.65"
            ]
          },
          "metadata": {
            "tags": []
          },
          "execution_count": 194
        }
      ]
    },
    {
      "cell_type": "code",
      "metadata": {
        "id": "DdmD1C4HEJ2B",
        "colab": {
          "base_uri": "https://localhost:8080/",
          "height": 235
        },
        "outputId": "c4df9397-ca04-4a14-85f1-fee4411e2c6c"
      },
      "source": [
        "'''\r\n",
        "Split Data Test 30%\r\n",
        "'''\r\n",
        "\r\n",
        "data_test = data[14:]\r\n",
        "\r\n",
        "X_test = data_test['Tugas'].values.reshape(-1, 1)\r\n",
        "Y_test = data_test['NA'].values.reshape(-1, 1)\r\n",
        "data_test.head(6)"
      ],
      "execution_count": null,
      "outputs": [
        {
          "output_type": "execute_result",
          "data": {
            "text/html": [
              "<div>\n",
              "<style scoped>\n",
              "    .dataframe tbody tr th:only-of-type {\n",
              "        vertical-align: middle;\n",
              "    }\n",
              "\n",
              "    .dataframe tbody tr th {\n",
              "        vertical-align: top;\n",
              "    }\n",
              "\n",
              "    .dataframe thead th {\n",
              "        text-align: right;\n",
              "    }\n",
              "</style>\n",
              "<table border=\"1\" class=\"dataframe\">\n",
              "  <thead>\n",
              "    <tr style=\"text-align: right;\">\n",
              "      <th></th>\n",
              "      <th>Nama</th>\n",
              "      <th>Tugas</th>\n",
              "      <th>Quiz</th>\n",
              "      <th>UTS</th>\n",
              "      <th>UAS</th>\n",
              "      <th>Absensi</th>\n",
              "      <th>NA</th>\n",
              "    </tr>\n",
              "  </thead>\n",
              "  <tbody>\n",
              "    <tr>\n",
              "      <th>14</th>\n",
              "      <td>Reno</td>\n",
              "      <td>61</td>\n",
              "      <td>60</td>\n",
              "      <td>78</td>\n",
              "      <td>48</td>\n",
              "      <td>72</td>\n",
              "      <td>65.75</td>\n",
              "    </tr>\n",
              "    <tr>\n",
              "      <th>15</th>\n",
              "      <td>Sandi</td>\n",
              "      <td>35</td>\n",
              "      <td>45</td>\n",
              "      <td>74</td>\n",
              "      <td>69</td>\n",
              "      <td>99</td>\n",
              "      <td>60.50</td>\n",
              "    </tr>\n",
              "    <tr>\n",
              "      <th>16</th>\n",
              "      <td>Linda</td>\n",
              "      <td>64</td>\n",
              "      <td>73</td>\n",
              "      <td>73</td>\n",
              "      <td>59</td>\n",
              "      <td>86</td>\n",
              "      <td>70.35</td>\n",
              "    </tr>\n",
              "    <tr>\n",
              "      <th>17</th>\n",
              "      <td>Sinta</td>\n",
              "      <td>29</td>\n",
              "      <td>39</td>\n",
              "      <td>47</td>\n",
              "      <td>82</td>\n",
              "      <td>98</td>\n",
              "      <td>52.60</td>\n",
              "    </tr>\n",
              "    <tr>\n",
              "      <th>18</th>\n",
              "      <td>Marni</td>\n",
              "      <td>88</td>\n",
              "      <td>53</td>\n",
              "      <td>88</td>\n",
              "      <td>46</td>\n",
              "      <td>84</td>\n",
              "      <td>73.95</td>\n",
              "    </tr>\n",
              "    <tr>\n",
              "      <th>19</th>\n",
              "      <td>Fandi</td>\n",
              "      <td>38</td>\n",
              "      <td>57</td>\n",
              "      <td>71</td>\n",
              "      <td>71</td>\n",
              "      <td>91</td>\n",
              "      <td>58.35</td>\n",
              "    </tr>\n",
              "  </tbody>\n",
              "</table>\n",
              "</div>"
            ],
            "text/plain": [
              "     Nama  Tugas  Quiz  UTS  UAS  Absensi     NA\n",
              "14   Reno     61    60   78   48       72  65.75\n",
              "15  Sandi     35    45   74   69       99  60.50\n",
              "16  Linda     64    73   73   59       86  70.35\n",
              "17  Sinta     29    39   47   82       98  52.60\n",
              "18  Marni     88    53   88   46       84  73.95\n",
              "19  Fandi     38    57   71   71       91  58.35"
            ]
          },
          "metadata": {
            "tags": []
          },
          "execution_count": 195
        }
      ]
    },
    {
      "cell_type": "code",
      "metadata": {
        "colab": {
          "base_uri": "https://localhost:8080/"
        },
        "id": "lnzJXKphEUDI",
        "outputId": "fa681a19-ff71-40f3-db89-352c890cebd3"
      },
      "source": [
        "'''\r\n",
        "Implementasi Linear Regression \r\n",
        "Pelatihan data / train (fit) data\r\n",
        "Menghitung nilai intercept dan Coefficient\r\n",
        "'''\r\n",
        "regressor = LinearRegression()\r\n",
        "regressor.fit(X_train, Y_train)\r\n",
        "\r\n",
        "print(\"Intercept : \", regressor.intercept_)\r\n",
        "print(\"Coefficient : \", regressor.coef_)\r\n",
        "\r\n",
        "y_pred = regressor.predict(X_test)\r\n",
        "print(\"\\nY Pred :\\n\",y_pred)"
      ],
      "execution_count": null,
      "outputs": [
        {
          "output_type": "stream",
          "text": [
            "Intercept :  [32.21326642]\n",
            "Coefficient :  [[0.51017483]]\n",
            "\n",
            "Y Pred :\n",
            " [[63.3339311 ]\n",
            " [50.0693855 ]\n",
            " [64.8644556 ]\n",
            " [47.00833652]\n",
            " [77.10865154]\n",
            " [51.59990999]]\n"
          ],
          "name": "stdout"
        }
      ]
    },
    {
      "cell_type": "code",
      "metadata": {
        "colab": {
          "base_uri": "https://localhost:8080/",
          "height": 235
        },
        "id": "2tLKOT08Ecxv",
        "outputId": "f0b1b60b-22d3-465d-cb53-cdfcb5bd43d7"
      },
      "source": [
        "'''\r\n",
        "Ground Truth dan Prediction di lakukan flatten menjadi 1 dimensi\r\n",
        "'''\r\n",
        "df_test = pd.DataFrame({'Ground Truth': Y_test.flatten(), 'Predicted': y_pred.flatten()})\r\n",
        "df_test"
      ],
      "execution_count": null,
      "outputs": [
        {
          "output_type": "execute_result",
          "data": {
            "text/html": [
              "<div>\n",
              "<style scoped>\n",
              "    .dataframe tbody tr th:only-of-type {\n",
              "        vertical-align: middle;\n",
              "    }\n",
              "\n",
              "    .dataframe tbody tr th {\n",
              "        vertical-align: top;\n",
              "    }\n",
              "\n",
              "    .dataframe thead th {\n",
              "        text-align: right;\n",
              "    }\n",
              "</style>\n",
              "<table border=\"1\" class=\"dataframe\">\n",
              "  <thead>\n",
              "    <tr style=\"text-align: right;\">\n",
              "      <th></th>\n",
              "      <th>Ground Truth</th>\n",
              "      <th>Predicted</th>\n",
              "    </tr>\n",
              "  </thead>\n",
              "  <tbody>\n",
              "    <tr>\n",
              "      <th>0</th>\n",
              "      <td>65.75</td>\n",
              "      <td>63.333931</td>\n",
              "    </tr>\n",
              "    <tr>\n",
              "      <th>1</th>\n",
              "      <td>60.50</td>\n",
              "      <td>50.069386</td>\n",
              "    </tr>\n",
              "    <tr>\n",
              "      <th>2</th>\n",
              "      <td>70.35</td>\n",
              "      <td>64.864456</td>\n",
              "    </tr>\n",
              "    <tr>\n",
              "      <th>3</th>\n",
              "      <td>52.60</td>\n",
              "      <td>47.008337</td>\n",
              "    </tr>\n",
              "    <tr>\n",
              "      <th>4</th>\n",
              "      <td>73.95</td>\n",
              "      <td>77.108652</td>\n",
              "    </tr>\n",
              "    <tr>\n",
              "      <th>5</th>\n",
              "      <td>58.35</td>\n",
              "      <td>51.599910</td>\n",
              "    </tr>\n",
              "  </tbody>\n",
              "</table>\n",
              "</div>"
            ],
            "text/plain": [
              "   Ground Truth  Predicted\n",
              "0         65.75  63.333931\n",
              "1         60.50  50.069386\n",
              "2         70.35  64.864456\n",
              "3         52.60  47.008337\n",
              "4         73.95  77.108652\n",
              "5         58.35  51.599910"
            ]
          },
          "metadata": {
            "tags": []
          },
          "execution_count": 197
        }
      ]
    },
    {
      "cell_type": "code",
      "metadata": {
        "colab": {
          "base_uri": "https://localhost:8080/",
          "height": 265
        },
        "id": "P5VQipkNEg-E",
        "outputId": "12bad0d5-6cbf-4813-be9c-a4555f070a48"
      },
      "source": [
        "'''\r\n",
        "Plot Hasil prediksi LR\r\n",
        "'''\r\n",
        "plt.scatter(X_test, Y_test)\r\n",
        "plt.plot(X_test, y_pred, color='mediumseagreen', linewidth=3)\r\n",
        "plt.show()"
      ],
      "execution_count": null,
      "outputs": [
        {
          "output_type": "display_data",
          "data": {
            "image/png": "[encoded data removed]",
            "text/plain": [
              "<Figure size 432x288 with 1 Axes>"
            ]
          },
          "metadata": {
            "tags": [],
            "needs_background": "light"
          }
        }
      ]
    },
    {
      "cell_type": "code",
      "metadata": {
        "id": "yLKQjxkMElQJ",
        "colab": {
          "base_uri": "https://localhost:8080/"
        },
        "outputId": "7a7e4f99-d4d2-4edb-c118-cb6a9eaa212b"
      },
      "source": [
        "'''\r\n",
        "Hasil RMSE masih belum mencapai dibawah <10%\r\n",
        "'''\r\n",
        "\r\n",
        "from sklearn import metrics\r\n",
        "\r\n",
        "print(f'MSE = {metrics.mean_squared_error(Y_test, y_pred)}')\r\n",
        "print(f'RMSE = {np.sqrt(metrics.mean_squared_error(Y_test, y_pred))}')"
      ],
      "execution_count": null,
      "outputs": [
        {
          "output_type": "stream",
          "text": [
            "MSE = 38.58896671722439\n",
            "RMSE = 6.212001828494933\n"
          ],
          "name": "stdout"
        }
      ]
    },
    {
      "cell_type": "markdown",
      "metadata": {
        "id": "E5t5KS_0ldT5"
      },
      "source": [
        "#**[3] Naive Bayes | Breast Cancer**"
      ]
    },
    {
      "cell_type": "code",
      "metadata": {
        "id": "MclCJazzlldR"
      },
      "source": [
        "from sklearn.naive_bayes import GaussianNB\r\n",
        "from sklearn.model_selection import train_test_split\r\n",
        "from sklearn.datasets import load_breast_cancer\r\n",
        "from sklearn.metrics import confusion_matrix\r\n",
        "from sklearn.metrics import classification_report"
      ],
      "execution_count": null,
      "outputs": []
    },
    {
      "cell_type": "code",
      "metadata": {
        "colab": {
          "base_uri": "https://localhost:8080/"
        },
        "id": "ZSdRgnj1mC59",
        "outputId": "52d149dd-a682-45a1-a55e-49c13b223a46"
      },
      "source": [
        "'''\r\n",
        "Load Dataset dan Splitting daset \r\n",
        "Komposisi Train dan Test\r\n",
        "'''\r\n",
        "\r\n",
        "cancer = load_breast_cancer()\r\n",
        "X_train, X_test, y_train, y_test = train_test_split(cancer.data, cancer.target, stratify=cancer.target)\r\n",
        "\r\n",
        "print('X_Train :',X_train.shape,\r\n",
        "        '\\nX_Test :',X_test.shape,\r\n",
        "        '\\nY_Train :',y_train.shape,\r\n",
        "        '\\nY_Test :',y_test.shape)"
      ],
      "execution_count": null,
      "outputs": [
        {
          "output_type": "stream",
          "text": [
            "X_Train : (426, 30) \n",
            "X_Test : (143, 30) \n",
            "Y_Train : (426,) \n",
            "Y_Test : (143,)\n"
          ],
          "name": "stdout"
        }
      ]
    },
    {
      "cell_type": "code",
      "metadata": {
        "colab": {
          "base_uri": "https://localhost:8080/",
          "height": 539
        },
        "id": "3L5AItVDtTfs",
        "outputId": "e67e30e0-ed98-424c-bcbc-078356cc68d3"
      },
      "source": [
        "def NB(nb1): \r\n",
        "    '''\r\n",
        "    ------------------------------ Tahapan Naive Bayes ---------------------------------\r\n",
        "    1. Deklarasikan Fungsi Gaussian Naive Bayes dari Library Sklearn\r\n",
        "    2. Kemudian melatih model dengan data train\r\n",
        "    3. Setelah itu dihitung nilai score menggunakan algoritma naive bayes\r\n",
        "    4. Hasil output akurasi dicetak dalam persentase\r\n",
        "    ------------------------------ ------------------------------  ---------------------------------\r\n",
        "    '''\r\n",
        "    naivebayes = GaussianNB()\r\n",
        "    naivebayes.fit(X_train, y_train)\r\n",
        "\r\n",
        "    acc_train = naivebayes.score(X_train, y_train)\r\n",
        "    acc_test = naivebayes.score(X_test, y_test)\r\n",
        "\r\n",
        "    y_pred = naivebayes.predict(X_test)\r\n",
        "\r\n",
        "    print('[1] Classifcation Report')\r\n",
        "    print('--------------------------------')\r\n",
        "    print(classification_report(y_test, y_pred))\r\n",
        "    print('[2] Confusion Matrix')\r\n",
        "    print('--------------------------------')\r\n",
        "    print(confusion_matrix(y_test, y_pred))\r\n",
        "    print(' ')\r\n",
        "\r\n",
        "    print('[3] Evaluasi Akurasi')\r\n",
        "    print('--------------------------------')\r\n",
        "    print(\"Akurasi Training: {0:.0f}%\".format(acc_train* 100))\r\n",
        "    print(\"Akurasi Testing : {0:.0f}%\".format(acc_test* 100))\r\n",
        "\r\n",
        "    return nb1 \r\n",
        "\r\n",
        "print(NB.__doc__) \r\n",
        "NB('----------------------------')"
      ],
      "execution_count": null,
      "outputs": [
        {
          "output_type": "stream",
          "text": [
            "\n",
            "    ------------------------------ Tahapan Naive Bayes ---------------------------------\n",
            "    1. Deklarasikan Fungsi Gaussian Naive Bayes dari Library Sklearn\n",
            "    2. Kemudian melatih model dengan data train\n",
            "    3. Setelah itu dihitung nilai score menggunakan algoritma naive bayes\n",
            "    4. Hasil output akurasi dicetak dalam persentase\n",
            "    ------------------------------ ------------------------------  ---------------------------------\n",
            "    \n",
            "[1] Classifcation Report\n",
            "--------------------------------\n",
            "              precision    recall  f1-score   support\n",
            "\n",
            "           0       0.96      0.94      0.95        53\n",
            "           1       0.97      0.98      0.97        90\n",
            "\n",
            "    accuracy                           0.97       143\n",
            "   macro avg       0.96      0.96      0.96       143\n",
            "weighted avg       0.96      0.97      0.96       143\n",
            "\n",
            "[2] Confusion Matrix\n",
            "--------------------------------\n",
            "[[50  3]\n",
            " [ 2 88]]\n",
            " \n",
            "[3] Evaluasi Akurasi\n",
            "--------------------------------\n",
            "Akurasi Training: 93%\n",
            "Akurasi Testing : 97%\n"
          ],
          "name": "stdout"
        },
        {
          "output_type": "execute_result",
          "data": {
            "application/vnd.google.colaboratory.intrinsic+json": {
              "type": "string"
            },
            "text/plain": [
              "'----------------------------'"
            ]
          },
          "metadata": {
            "tags": []
          },
          "execution_count": 25
        }
      ]
    }
  ]
}